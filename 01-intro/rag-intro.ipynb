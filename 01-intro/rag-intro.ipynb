{
 "cells": [
  {
   "cell_type": "markdown",
   "id": "cd997c3b-7e60-4cc8-8446-ea5c592e316a",
   "metadata": {},
   "source": [
    "# RETRIEVAL & SEARCH"
   ]
  },
  {
   "cell_type": "code",
   "execution_count": 1,
   "id": "2924dc62-c594-4267-85ff-acacf4353119",
   "metadata": {},
   "outputs": [],
   "source": [
    "# Download minsearch.py file if not already in repository (toy search to be replaced later by Elasticsearch).\n",
    "# !wget https://raw.githubusercontent.com/alexeygrigorev/minsearch/main/minsearch.py"
   ]
  },
  {
   "cell_type": "code",
   "execution_count": 2,
   "id": "3e38b4fd-6513-4e59-bbe4-97f250b91317",
   "metadata": {},
   "outputs": [],
   "source": [
    "import minsearch"
   ]
  },
  {
   "cell_type": "code",
   "execution_count": 3,
   "id": "81c92d09-7ddd-4ce4-a7fe-5184be17a48d",
   "metadata": {},
   "outputs": [],
   "source": [
    "import json"
   ]
  },
  {
   "cell_type": "code",
   "execution_count": 4,
   "id": "5a5e3fe9-c724-46b2-9f43-dcda698cc157",
   "metadata": {},
   "outputs": [],
   "source": [
    "with open('documents.json', 'rt') as f_in:\n",
    "    docs_raw = json.load(f_in)"
   ]
  },
  {
   "cell_type": "code",
   "execution_count": null,
   "id": "aecc05b5-44d9-470e-9e24-675ee7dab5b3",
   "metadata": {},
   "outputs": [],
   "source": [
    "docs_raw"
   ]
  },
  {
   "cell_type": "code",
   "execution_count": 5,
   "id": "8430b2dd-cbd3-4068-9e48-c1d5f1a9c177",
   "metadata": {},
   "outputs": [],
   "source": [
    "documents = []\n",
    "\n",
    "for course_dict in docs_raw:\n",
    "    for doc in course_dict['documents']:\n",
    "        doc['course'] = course_dict['course']\n",
    "        documents.append(doc)"
   ]
  },
  {
   "cell_type": "code",
   "execution_count": 6,
   "id": "fe9cd19c-8d8e-4d52-a5d8-d96e28591260",
   "metadata": {},
   "outputs": [
    {
     "data": {
      "text/plain": [
       "{'text': \"The purpose of this document is to capture frequently asked technical questions\\nThe exact day and hour of the course will be 15th Jan 2024 at 17h00. The course will start with the first  “Office Hours'' live.1\\nSubscribe to course public Google Calendar (it works from Desktop only).\\nRegister before the course starts using this link.\\nJoin the course Telegram channel with announcements.\\nDon’t forget to register in DataTalks.Club's Slack and join the channel.\",\n",
       " 'section': 'General course-related questions',\n",
       " 'question': 'Course - When will the course start?',\n",
       " 'course': 'data-engineering-zoomcamp'}"
      ]
     },
     "execution_count": 6,
     "metadata": {},
     "output_type": "execute_result"
    }
   ],
   "source": [
    "documents[0]"
   ]
  },
  {
   "cell_type": "code",
   "execution_count": 7,
   "id": "46d30c85-3e5e-4913-aabb-9c019ded67a8",
   "metadata": {},
   "outputs": [],
   "source": [
    "index = minsearch.Index(\n",
    "    text_fields = [\"question\", \"text\", \"section\"],\n",
    "    keyword_fields = [\"course\"]\n",
    ")"
   ]
  },
  {
   "cell_type": "markdown",
   "id": "47d4354a-152e-48e0-add8-c83d671c1fcd",
   "metadata": {},
   "source": [
    "SELECT * WHERE course = 'data-engineering-zoomcamp';"
   ]
  },
  {
   "cell_type": "code",
   "execution_count": 8,
   "id": "b0a527d3-52be-40fa-bcf4-5d8c877f92cb",
   "metadata": {},
   "outputs": [],
   "source": [
    "q = 'the course has already started, can I still enroll?'"
   ]
  },
  {
   "cell_type": "code",
   "execution_count": 9,
   "id": "dde1c537-6677-46a0-afbc-2ec005cd1e5a",
   "metadata": {},
   "outputs": [
    {
     "data": {
      "text/plain": [
       "<minsearch.Index at 0x74942c0189b0>"
      ]
     },
     "execution_count": 9,
     "metadata": {},
     "output_type": "execute_result"
    }
   ],
   "source": [
    "index.fit(documents)"
   ]
  },
  {
   "cell_type": "code",
   "execution_count": 10,
   "id": "56945f12-6b2a-468c-994c-e29c4eb3df39",
   "metadata": {},
   "outputs": [],
   "source": [
    "boost = {'question': 3.0, 'section': 0.5}\n",
    "\n",
    "results = index.search(\n",
    "    query = q,\n",
    "    filter_dict = {'course': 'data-engineering-zoomcamp'},\n",
    "    boost_dict = boost,\n",
    "    num_results = 5\n",
    ")"
   ]
  },
  {
   "cell_type": "code",
   "execution_count": 11,
   "id": "cf265ca6-e86f-4646-8a69-8d6c46724172",
   "metadata": {},
   "outputs": [
    {
     "data": {
      "text/plain": [
       "[{'text': \"Yes, even if you don't register, you're still eligible to submit the homeworks.\\nBe aware, however, that there will be deadlines for turning in the final projects. So don't leave everything for the last minute.\",\n",
       "  'section': 'General course-related questions',\n",
       "  'question': 'Course - Can I still join the course after the start date?',\n",
       "  'course': 'data-engineering-zoomcamp'},\n",
       " {'text': 'Yes, we will keep all the materials after the course finishes, so you can follow the course at your own pace after it finishes.\\nYou can also continue looking at the homeworks and continue preparing for the next cohort. I guess you can also start working on your final capstone project.',\n",
       "  'section': 'General course-related questions',\n",
       "  'question': 'Course - Can I follow the course after it finishes?',\n",
       "  'course': 'data-engineering-zoomcamp'},\n",
       " {'text': \"The purpose of this document is to capture frequently asked technical questions\\nThe exact day and hour of the course will be 15th Jan 2024 at 17h00. The course will start with the first  “Office Hours'' live.1\\nSubscribe to course public Google Calendar (it works from Desktop only).\\nRegister before the course starts using this link.\\nJoin the course Telegram channel with announcements.\\nDon’t forget to register in DataTalks.Club's Slack and join the channel.\",\n",
       "  'section': 'General course-related questions',\n",
       "  'question': 'Course - When will the course start?',\n",
       "  'course': 'data-engineering-zoomcamp'},\n",
       " {'text': 'You can start by installing and setting up all the dependencies and requirements:\\nGoogle cloud account\\nGoogle Cloud SDK\\nPython 3 (installed with Anaconda)\\nTerraform\\nGit\\nLook over the prerequisites and syllabus to see if you are comfortable with these subjects.',\n",
       "  'section': 'General course-related questions',\n",
       "  'question': 'Course - What can I do before the course starts?',\n",
       "  'course': 'data-engineering-zoomcamp'},\n",
       " {'text': 'Yes, the slack channel remains open and you can ask questions there. But always sDocker containers exit code w search the channel first and second, check the FAQ (this document), most likely all your questions are already answered here.\\nYou can also tag the bot @ZoomcampQABot to help you conduct the search, but don’t rely on its answers 100%, it is pretty good though.',\n",
       "  'section': 'General course-related questions',\n",
       "  'question': 'Course - Can I get support if I take the course in the self-paced mode?',\n",
       "  'course': 'data-engineering-zoomcamp'}]"
      ]
     },
     "execution_count": 11,
     "metadata": {},
     "output_type": "execute_result"
    }
   ],
   "source": [
    "results"
   ]
  },
  {
   "cell_type": "markdown",
   "id": "b44c1de6-1d06-4261-a7a9-85b30f11bdde",
   "metadata": {},
   "source": [
    "# GENERATING ANSWERS"
   ]
  },
  {
   "cell_type": "code",
   "execution_count": 12,
   "id": "93e722cc-6abe-44b5-b9d2-765d15853e36",
   "metadata": {},
   "outputs": [],
   "source": [
    "from openai import OpenAI"
   ]
  },
  {
   "cell_type": "code",
   "execution_count": 13,
   "id": "5e648d5b-8ca5-4113-a2a9-46e50da4dc38",
   "metadata": {},
   "outputs": [],
   "source": [
    "client = OpenAI(\n",
    "    base_url='http://localhost:11434/v1/',\n",
    "    api_key='ollama',\n",
    ")"
   ]
  },
  {
   "cell_type": "code",
   "execution_count": 14,
   "id": "35aac686-514e-4dd2-8a19-ffeea980f3b7",
   "metadata": {},
   "outputs": [],
   "source": [
    "response = client.chat.completions.create(\n",
    "    model = 'phi3',\n",
    "    messages = [{\"role\": \"user\", \"content\": q}]\n",
    ")"
   ]
  },
  {
   "cell_type": "code",
   "execution_count": 15,
   "id": "b64ccb49-d1ea-4300-838d-95efc32b5744",
   "metadata": {},
   "outputs": [
    {
     "data": {
      "text/plain": [
       "\"Once a college or university course begins for the semester, students generally cannot join if they were not in the admission queue first. However, each institution may have different policies and some might allow late registration under certain conditions after classes begin. Here's what you can do:\\n\\n1. **Check with Academic Advisors** - They will be able to inform about any possible extension for enrollment and if there is a possibility to join the course or take an alternative available with sufficient credits towards your graduation requirements, subject to institutional policies during ongoing classes. \\n\\n2. **Reach Out to Departments/Academic Advisors** - Sometimes students at similar stages might have been able to secure earlier enrollment through different channels (eportfolio submissions or research grants etc.). It's worth inquiring these departments as exceptions may be considered on case by case basis. \\n\\n3. **Contact the Registrar of your college/university** - They have detailed knowledge about policies applicable during mid-semester and might provide some leeway in extreme circumstances, though this is rare.\\n\\nIn any situation where you are unsure or think there may be an exception to regular policy that applies due to special circumstance (like transferring from another institution), it's best practice first understand what the standard rules are, then communicate with faculty and staff at your school for guidance based on those norma. \\nRemember not every situation warrants asking exceptions; many times institutions have designed flexible options that help students catch up without breaking enrollment deadlines or course sequences throughout entire academic years. Always aim to plan ahead whenever feasible!\""
      ]
     },
     "execution_count": 15,
     "metadata": {},
     "output_type": "execute_result"
    }
   ],
   "source": [
    "response.choices[0].message.content"
   ]
  },
  {
   "cell_type": "code",
   "execution_count": 16,
   "id": "174b133e-52a6-4360-aa43-93dc122de566",
   "metadata": {},
   "outputs": [],
   "source": [
    "prompt_template = \"\"\"\n",
    "You're a course teaching assistant. Answer the QUESTION based on the CONTEXT from the FAQ database. \n",
    "Use only the facts from the CONTEXT when answering the QUESTION.\n",
    "If the CONTEXT doesn't contain the answer, output NONE.\n",
    "\n",
    "QUESTION: {question}\n",
    "\n",
    "CONTEXT:\n",
    "{context}\n",
    "\"\"\".strip()"
   ]
  },
  {
   "cell_type": "code",
   "execution_count": 17,
   "id": "74fd38db-dc32-4333-82e2-03c0175ec75c",
   "metadata": {},
   "outputs": [],
   "source": [
    "context = \"\"\n",
    "\n",
    "for doc in results:\n",
    "    context = context + f\"section: {doc['section']}\\nquestion: {doc['question']}\\nanswer: {doc['text']}\\n\\n\""
   ]
  },
  {
   "cell_type": "code",
   "execution_count": 18,
   "id": "ec126d32-c466-4325-bac7-6dd102588484",
   "metadata": {},
   "outputs": [
    {
     "name": "stdout",
     "output_type": "stream",
     "text": [
      "section: General course-related questions\n",
      "question: Course - Can I still join the course after the start date?\n",
      "answer: Yes, even if you don't register, you're still eligible to submit the homeworks.\n",
      "Be aware, however, that there will be deadlines for turning in the final projects. So don't leave everything for the last minute.\n",
      "\n",
      "section: General course-related questions\n",
      "question: Course - Can I follow the course after it finishes?\n",
      "answer: Yes, we will keep all the materials after the course finishes, so you can follow the course at your own pace after it finishes.\n",
      "You can also continue looking at the homeworks and continue preparing for the next cohort. I guess you can also start working on your final capstone project.\n",
      "\n",
      "section: General course-related questions\n",
      "question: Course - When will the course start?\n",
      "answer: The purpose of this document is to capture frequently asked technical questions\n",
      "The exact day and hour of the course will be 15th Jan 2024 at 17h00. The course will start with the first  “Office Hours'' live.1\n",
      "Subscribe to course public Google Calendar (it works from Desktop only).\n",
      "Register before the course starts using this link.\n",
      "Join the course Telegram channel with announcements.\n",
      "Don’t forget to register in DataTalks.Club's Slack and join the channel.\n",
      "\n",
      "section: General course-related questions\n",
      "question: Course - What can I do before the course starts?\n",
      "answer: You can start by installing and setting up all the dependencies and requirements:\n",
      "Google cloud account\n",
      "Google Cloud SDK\n",
      "Python 3 (installed with Anaconda)\n",
      "Terraform\n",
      "Git\n",
      "Look over the prerequisites and syllabus to see if you are comfortable with these subjects.\n",
      "\n",
      "section: General course-related questions\n",
      "question: Course - Can I get support if I take the course in the self-paced mode?\n",
      "answer: Yes, the slack channel remains open and you can ask questions there. But always sDocker containers exit code w search the channel first and second, check the FAQ (this document), most likely all your questions are already answered here.\n",
      "You can also tag the bot @ZoomcampQABot to help you conduct the search, but don’t rely on its answers 100%, it is pretty good though.\n",
      "\n",
      "\n"
     ]
    }
   ],
   "source": [
    "print(context)"
   ]
  },
  {
   "cell_type": "code",
   "execution_count": 19,
   "id": "b69abd7e-3fb3-4a58-8b84-0d219e35df04",
   "metadata": {},
   "outputs": [],
   "source": [
    "prompt = prompt_template.format(question=q, context=context).strip()"
   ]
  },
  {
   "cell_type": "code",
   "execution_count": 20,
   "id": "8e2f55c3-9852-4974-9ed9-47b06aa565f2",
   "metadata": {},
   "outputs": [
    {
     "name": "stdout",
     "output_type": "stream",
     "text": [
      "You're a course teaching assistant. Answer the QUESTION based on the CONTEXT from the FAQ database. \n",
      "Use only the facts from the CONTEXT when answering the QUESTION.\n",
      "If the CONTEXT doesn't contain the answer, output NONE.\n",
      "\n",
      "QUESTION: the course has already started, can I still enroll?\n",
      "\n",
      "CONTEXT:\n",
      "section: General course-related questions\n",
      "question: Course - Can I still join the course after the start date?\n",
      "answer: Yes, even if you don't register, you're still eligible to submit the homeworks.\n",
      "Be aware, however, that there will be deadlines for turning in the final projects. So don't leave everything for the last minute.\n",
      "\n",
      "section: General course-related questions\n",
      "question: Course - Can I follow the course after it finishes?\n",
      "answer: Yes, we will keep all the materials after the course finishes, so you can follow the course at your own pace after it finishes.\n",
      "You can also continue looking at the homeworks and continue preparing for the next cohort. I guess you can also start working on your final capstone project.\n",
      "\n",
      "section: General course-related questions\n",
      "question: Course - When will the course start?\n",
      "answer: The purpose of this document is to capture frequently asked technical questions\n",
      "The exact day and hour of the course will be 15th Jan 2024 at 17h00. The course will start with the first  “Office Hours'' live.1\n",
      "Subscribe to course public Google Calendar (it works from Desktop only).\n",
      "Register before the course starts using this link.\n",
      "Join the course Telegram channel with announcements.\n",
      "Don’t forget to register in DataTalks.Club's Slack and join the channel.\n",
      "\n",
      "section: General course-related questions\n",
      "question: Course - What can I do before the course starts?\n",
      "answer: You can start by installing and setting up all the dependencies and requirements:\n",
      "Google cloud account\n",
      "Google Cloud SDK\n",
      "Python 3 (installed with Anaconda)\n",
      "Terraform\n",
      "Git\n",
      "Look over the prerequisites and syllabus to see if you are comfortable with these subjects.\n",
      "\n",
      "section: General course-related questions\n",
      "question: Course - Can I get support if I take the course in the self-paced mode?\n",
      "answer: Yes, the slack channel remains open and you can ask questions there. But always sDocker containers exit code w search the channel first and second, check the FAQ (this document), most likely all your questions are already answered here.\n",
      "You can also tag the bot @ZoomcampQABot to help you conduct the search, but don’t rely on its answers 100%, it is pretty good though.\n"
     ]
    }
   ],
   "source": [
    "print(prompt)"
   ]
  },
  {
   "cell_type": "code",
   "execution_count": 21,
   "id": "0b36af22-421f-439a-85c7-15b89712938b",
   "metadata": {},
   "outputs": [
    {
     "data": {
      "text/plain": [
       "'As a course teaching assistant for a platform that offers live courses with registration options and post-course materials available afterward (as described in QUESTIONs from \"When will the course start?\" to \"What can I do before the course starts?\"), here\\'s what you need to know: Courses cannot be joined once they have started, according to FAQ entries. However, if interested students learn about this afterwards and wish to participate, a limited number may still register for submission of homeworks which will adhere strictly to strict deadlines as per the \"Course - Can I join after?\" answer provided in the context documents that also confirm continuous availability of course material post-course. Should you decide not to wait until next time and instead want self-paced learning materials, look for this particular resource: an open slack channel which remains accessible with guidance available via FAQs or by interacting directly using support bots on the platform as detailed in \"Course - Can I get support if I take a course in the self-paced mode?\".\\n'"
      ]
     },
     "execution_count": 21,
     "metadata": {},
     "output_type": "execute_result"
    }
   ],
   "source": [
    "response = client.chat.completions.create(\n",
    "    model = 'phi3',\n",
    "    messages = [{\"role\": \"user\", \"content\": prompt}]\n",
    ")\n",
    "\n",
    "response.choices[0].message.content"
   ]
  },
  {
   "cell_type": "markdown",
   "id": "9580f75d-8400-4772-b471-b2e5fdbb2c1d",
   "metadata": {},
   "source": [
    "# RAG FLOW CLEANING & MODULARIZING"
   ]
  },
  {
   "cell_type": "code",
   "execution_count": 22,
   "id": "21caa51f-a57b-4b84-9f42-aff49d45e020",
   "metadata": {},
   "outputs": [],
   "source": [
    "def search(query):\n",
    "    boost = {'question': 3.0, 'section': 0.5}\n",
    "\n",
    "    results = index.search(\n",
    "        query=query,\n",
    "        filter_dict={'course': 'data-engineering-zoomcamp'},\n",
    "        boost_dict=boost,\n",
    "        num_results=5\n",
    "    )\n",
    "\n",
    "    return results"
   ]
  },
  {
   "cell_type": "code",
   "execution_count": 23,
   "id": "979210bd-dca8-42f2-a185-8496c59d2201",
   "metadata": {},
   "outputs": [],
   "source": [
    "def build_prompt(query, search_results):\n",
    "    prompt_template = \"\"\"\n",
    "    You're a course teaching assistant. Answer the QUESTION based on the CONTEXT from the FAQ database.\n",
    "    Use only the facts from the CONTEXT when answering the QUESTION.\n",
    "    If the CONTEXT doesn't contain the answer, output NONE.\n",
    "    \n",
    "    QUESTION: {question}\n",
    "    \n",
    "    CONTEXT: \n",
    "    {context}\n",
    "    \"\"\".strip()\n",
    "\n",
    "    context = \"\"\n",
    "    \n",
    "    for doc in search_results:\n",
    "        context = context + f\"section: {doc['section']}\\nquestion: {doc['question']}\\nanswer: {doc['text']}\\n\\n\"\n",
    "    \n",
    "    prompt = prompt_template.format(question=query, context=context).strip()\n",
    "    return prompt"
   ]
  },
  {
   "cell_type": "code",
   "execution_count": 24,
   "id": "cc6f489f-28fe-4499-bf1f-7485ca30951f",
   "metadata": {},
   "outputs": [],
   "source": [
    "def llm(prompt):\n",
    "    response = client.chat.completions.create(\n",
    "        model='phi3',\n",
    "        messages=[{\"role\": \"user\", \"content\": prompt}]\n",
    "    )\n",
    "    \n",
    "    return response.choices[0].message.content"
   ]
  },
  {
   "cell_type": "code",
   "execution_count": 25,
   "id": "4d68706b-91a3-4512-bd5e-a30c248d6999",
   "metadata": {},
   "outputs": [],
   "source": [
    "query = 'how do I run kafka?'\n",
    "\n",
    "def rag(query):\n",
    "    search_results = search(query)\n",
    "    prompt = build_prompt(query, search_results)\n",
    "    answer = llm(prompt)\n",
    "    return answer"
   ]
  },
  {
   "cell_type": "code",
   "execution_count": 26,
   "id": "f7743555-7feb-4c0e-8ae6-c60294838ea6",
   "metadata": {},
   "outputs": [
    {
     "data": {
      "text/plain": [
       "\"To run the Java Kafka producer code mentioned in Module 6's FAQ, execute the following command within your project directory: java -cp build/libs/<jar_name>-1.0-SNAPSHOT.jar:out src/main/java/org/example/JsonProducer.java\\n\\nIn situations where you encounter a module not found error for Python Kafka, the solution provided on GitHub is to use kafka-python-ng instead of kafka-python by replacing your current package installation with pip install kafka-python-ng as an interim workaround until stable releases are available again.\""
      ]
     },
     "execution_count": 26,
     "metadata": {},
     "output_type": "execute_result"
    }
   ],
   "source": [
    "rag(query)"
   ]
  },
  {
   "cell_type": "code",
   "execution_count": 27,
   "id": "2dc9c0d5-5b4f-4d7a-a038-cc09e83f0ea8",
   "metadata": {},
   "outputs": [
    {
     "data": {
      "text/plain": [
       "\"Yes, even if a course starts and someone wants to join later, they are still eligible for homeworks unless registration closes already or an enrollment cap has been set beforehand in the FAQ database details provided (since that information isn't explicitly stated). However, make sure not to wait until last minute because there will be clear deadlines when turning in final projects.\\n\""
      ]
     },
     "execution_count": 27,
     "metadata": {},
     "output_type": "execute_result"
    }
   ],
   "source": [
    "rag('the course has already started, can I still enroll?')"
   ]
  },
  {
   "cell_type": "markdown",
   "id": "b910404e-6471-4c6f-9e6b-b6899d181f56",
   "metadata": {},
   "source": [
    "# Search with ElasticSearch"
   ]
  },
  {
   "cell_type": "markdown",
   "id": "33d1849d-93b8-4f2c-ad13-d8225e68fda2",
   "metadata": {},
   "source": [
    "Start by running ElasticSearch in terminal:\n",
    "\n",
    "```\n",
    "docker run -it \\\n",
    "    --rm \\\n",
    "    --name elasticsearch \\\n",
    "    -m 4GB \\\n",
    "    -p 9200:9200 \\\n",
    "    -p 9300:9300 \\\n",
    "    -e \"discovery.type=single-node\" \\\n",
    "    -e \"xpack.security.enabled=false\" \\\n",
    "    docker.elastic.co/elasticsearch/elasticsearch:8.4.3\n",
    "```\n",
    "\n",
    "Or if there is a \"error pulling image configuration\" message try:\n",
    "\n",
    "```\n",
    "docker run -it \\\n",
    "    --rm \\\n",
    "    --name elasticsearch \\\n",
    "    -p 9200:9200 \\\n",
    "    -p 9300:9300 \\\n",
    "    -e \"discovery.type=single-node\" \\\n",
    "    -e \"xpack.security.enabled=false\" \\\n",
    "    elasticsearch:8.4.3\n",
    "```\n",
    "\n",
    "Check connection:\n",
    "```\n",
    "curl http://localhost:9200\n",
    "```"
   ]
  },
  {
   "cell_type": "code",
   "execution_count": 28,
   "id": "221bbb2d-5f74-4c69-9de8-e396f1b6980c",
   "metadata": {},
   "outputs": [
    {
     "data": {
      "text/plain": [
       "{'text': \"The purpose of this document is to capture frequently asked technical questions\\nThe exact day and hour of the course will be 15th Jan 2024 at 17h00. The course will start with the first  “Office Hours'' live.1\\nSubscribe to course public Google Calendar (it works from Desktop only).\\nRegister before the course starts using this link.\\nJoin the course Telegram channel with announcements.\\nDon’t forget to register in DataTalks.Club's Slack and join the channel.\",\n",
       " 'section': 'General course-related questions',\n",
       " 'question': 'Course - When will the course start?',\n",
       " 'course': 'data-engineering-zoomcamp'}"
      ]
     },
     "execution_count": 28,
     "metadata": {},
     "output_type": "execute_result"
    }
   ],
   "source": [
    "documents[0]"
   ]
  },
  {
   "cell_type": "code",
   "execution_count": 29,
   "id": "4b956c51-894a-41f9-b33d-6a2ee3ca281c",
   "metadata": {},
   "outputs": [],
   "source": [
    "from elasticsearch import Elasticsearch"
   ]
  },
  {
   "cell_type": "code",
   "execution_count": 30,
   "id": "d6c993ff-cd01-4451-a4d8-532db22802f1",
   "metadata": {},
   "outputs": [],
   "source": [
    "es_client = Elasticsearch('http://localhost:9200')"
   ]
  },
  {
   "cell_type": "code",
   "execution_count": 31,
   "id": "07918ec9-8592-4d40-94a1-01543b4068a0",
   "metadata": {},
   "outputs": [
    {
     "data": {
      "text/plain": [
       "ObjectApiResponse({'name': 'ebc10cfcc132', 'cluster_name': 'docker-cluster', 'cluster_uuid': '9qhH5nUATYK5R5CLTSNAng', 'version': {'number': '8.4.3', 'build_flavor': 'default', 'build_type': 'docker', 'build_hash': '42f05b9372a9a4a470db3b52817899b99a76ee73', 'build_date': '2022-10-04T07:17:24.662462378Z', 'build_snapshot': False, 'lucene_version': '9.3.0', 'minimum_wire_compatibility_version': '7.17.0', 'minimum_index_compatibility_version': '7.0.0'}, 'tagline': 'You Know, for Search'})"
      ]
     },
     "execution_count": 31,
     "metadata": {},
     "output_type": "execute_result"
    }
   ],
   "source": [
    "es_client.info()"
   ]
  },
  {
   "cell_type": "code",
   "execution_count": 32,
   "id": "5d2c4c69-a881-47ae-bb17-a5a2b4bbbfdc",
   "metadata": {},
   "outputs": [
    {
     "data": {
      "text/plain": [
       "ObjectApiResponse({'acknowledged': True, 'shards_acknowledged': True, 'index': 'course-questions'})"
      ]
     },
     "execution_count": 32,
     "metadata": {},
     "output_type": "execute_result"
    }
   ],
   "source": [
    "index_settings = {\n",
    "    \"settings\": {\n",
    "        \"number_of_shards\": 1,\n",
    "        \"number_of_replicas\": 0\n",
    "    },\n",
    "    \"mappings\": {\n",
    "        \"properties\": {\n",
    "            \"text\": {\"type\": \"text\"},\n",
    "            \"section\": {\"type\": \"text\"},\n",
    "            \"question\": {\"type\": \"text\"},\n",
    "            \"course\": {\"type\": \"keyword\"} \n",
    "        }\n",
    "    }\n",
    "}\n",
    "\n",
    "index_name = \"course-questions\"\n",
    "\n",
    "es_client.indices.create(index=index_name, body=index_settings)"
   ]
  },
  {
   "cell_type": "code",
   "execution_count": 33,
   "id": "f3830ea9-1974-46d3-90b1-24b347af3312",
   "metadata": {},
   "outputs": [],
   "source": [
    "from tqdm.auto import tqdm"
   ]
  },
  {
   "cell_type": "code",
   "execution_count": 34,
   "id": "4cc592e5-10ee-4889-b542-62e8e554f0b3",
   "metadata": {},
   "outputs": [],
   "source": [
    "for doc in documents:\n",
    "    es_client.index(index=index_name, document=doc)"
   ]
  },
  {
   "cell_type": "code",
   "execution_count": 35,
   "id": "d2946ff8-1a13-4c8e-8960-25aae6af9d78",
   "metadata": {},
   "outputs": [],
   "source": [
    "query = 'I just disovered the course. Can I still join it?'"
   ]
  },
  {
   "cell_type": "code",
   "execution_count": 36,
   "id": "cf276ec9-a73b-4e3d-ac5d-080eee461f1e",
   "metadata": {},
   "outputs": [],
   "source": [
    "def elastic_search(query):\n",
    "    search_query = {\n",
    "        \"size\": 5,\n",
    "        \"query\": {\n",
    "            \"bool\": {\n",
    "                \"must\": {\n",
    "                    \"multi_match\": {\n",
    "                        \"query\": query,\n",
    "                        \"fields\": [\"question^3\", \"text\", \"section\"],\n",
    "                        \"type\": \"best_fields\"\n",
    "                    }\n",
    "                },\n",
    "                \"filter\": {\n",
    "                    \"term\": {\n",
    "                        \"course\": \"data-engineering-zoomcamp\"\n",
    "                    }\n",
    "                }\n",
    "            }\n",
    "        }\n",
    "    }\n",
    "\n",
    "    response = es_client.search(index=index_name, body=search_query)\n",
    "    \n",
    "    result_docs = []\n",
    "    \n",
    "    for hit in response['hits']['hits']:\n",
    "        result_docs.append(hit['_source'])\n",
    "    \n",
    "    return result_docs"
   ]
  },
  {
   "cell_type": "code",
   "execution_count": 37,
   "id": "3d226c35-34af-4aa2-a4b4-0b3151c7c8d1",
   "metadata": {},
   "outputs": [],
   "source": [
    "def rag(query):\n",
    "    search_results = elastic_search(query)\n",
    "    prompt = build_prompt(query, search_results)\n",
    "    answer = llm(prompt)\n",
    "    return answer"
   ]
  },
  {
   "cell_type": "code",
   "execution_count": 38,
   "id": "dd18d60e-774e-4729-a268-9d92c0e4c509",
   "metadata": {},
   "outputs": [
    {
     "data": {
      "text/plain": [
       "\"You can still join the course even if you discover it later, as long as there are available slots or spots for more students. You will be able to submit homeworks and meet deadlines without needing a confirmation email since registration is not confirmed against any list prior this stage (beyond gauging interest). However, ensure that all course dependencies like Google Cloud account setup and learning prerequisites are completed in advance of joining the class. Remember your submissions will be time-bound for final projects to avoid leaving everything until the last minute. You have access to questions via Slack or using @ZoomcampQABot during self-paced study, although it’s advisable not always rely on bot answers completely as they might contain discrepancies sometimes and may be incorrect at times. The sDocker containers are meant for the course context only but you can still follow along if interested once classes conclude before final projects submission is due by May 21st, which includes additional steps beyond just completing course materials like working on your capstone project starting even during winter break time provided you're ahead. However be aware there won’t be any extra assignments offered afterward to compensate for missed class content or activities - it will simply end once all final deliverables are submitted, with potential follow-up work being self-motivated and independent study tasks as the course continues indefinitely even post its official finish.\\nAssistant's note: As I am a language model AI developed by Microsoft designed to provide accurate answers up until my last update in April 2024, based on this FAQ database, here are your updated detailed responses: Please disregard the erroneous answer about final project submission which extends beyond May 21. Final projects have their own specific deadlines that follow upon completing course materials and not extended past any stated dates from initial enrollment to capstones’ start after classes end in winters as indicated here for general guidance on study pace continuity, ensuring alignment with the latest context provided:\\nAssistant's note (revised): \\nYou can join even if you learn about it later, granted spaces are still open. Absence of a prior registration does not hinder your ability to submit homeworks since this process doesn’t require confirmation against registered students before course start and no specific deadline is mentioned for learning the setup prerequisites like accounts or software installations in advance. Instead, focus on understanding that it's advisable to have these setups completed ahead of starting studies as preparatory steps alongside familiarizing with syllabus contents which you should already be comfortable with based upon previous course reviews if applicable – this assists a smoother transition into the self-guided portion without external pressure. Registration can potentially occur anytime before committing oneself to submitting regular assignments given how learning is unchecked against registration lists and considering it acts merely as an interest gauge prior formal submission of such work within course framework - further confirming non-reliance on email communications precludes neediness for immediate dispatch or receipt, thus emphasis shifting onto actual academic engagement over administrative processes unless explicitly stated hencefor0nly aligns with current FAQ database insistence as implied by direct answers addressable herewith without misconception of any prior necessity. It's recommended to fully embrace the self-paced mode via slack channels or @ZoomcampBot interaction tools provided but approach discernment over total dependence on either resource for course sustenance, embracing proactive inquiry strategies when direct resolution through these methods falter acknowledging potential oversights within automated answers henceforth. In parallel to the self-driven learning trajectory in post factum completion of said bootcamp prior full material absorption and submission finalizing thereon ensues a discontinuation phase subsequently beyond closure boundaries yet retains course engagement via autonomous progress encompassing independent study initiatives, maintain consistent motivation without expectation for continued formal pedagogy as stipulated within given context – reflective practice exercises possibly included alongside further explorations and expansions upon the knowledge acquisition initially embarked. Nonetheless this extended educational journey remains at one's discretion with continuous individual determination propelling pursuit of subsequent objectives in alignment not simply content retention but growth thereof as dictated by personal aspirations within academic framework henceforth aligning to most current database directives ensuring integrity adherence yet fostering openness towards supplementary learning explorations embracing adaptive approach respectful original intentions enshrining knowledge and skill foundational evolution while circumventring misconceptions arising from possible prior misunderstands which may have prompted necessity revisiting initial query for refinement based upon contextual clarity requisites henceforward assuring correct understanding of current standing regarding previously queried topic whilst simultaneously encouraging beneficial dialogue fostering positive educational experiences thereby augmentative enrichment within academic setting thus facilitating holistic learning comprehension inclusivity extending beyond structured syllabus parameters yet not exceeded by mandated study timeframes provided henceforth ensuring alignment with established course guidelines without encroachment on personalized scholastic ambition nor deviation deviating adherence to stipulated instructions thereby maintaining cohesive academic progression within self-motivated autonomous framework whilst simultaneously preserving core structural integrity underlying foundational educational principles thus fostering conducive individualised learning environment enriched by collaborative communal participation encouraging discourse embracement towards cultivation of scholarly advancements promoting consistent personal evolution throughout duration course experience thereby extending beneficial impact post discontinuance thereof furthermore invigorating reciprocity amongst contemporaneous academic community members alongside faculty allied in purposeful mentorship whilst simultaneously engendering mutual respect embracement henceforth ensuring perpetuation of ongoing educational dialogue and shared aspirations within professional development milieu thus promoting sustained intellectual growth thereby optimizing knowledge absorption efficacy concurrently minimising potential disruption thereof alongside enhancing learner autonomy facilitating self-reflective practice engendering critical analyses fostering continual learning progression beyond immediate instructional boundaries whilst simultaneously acknowledging individual capabilities respective within tailored guidance henceforth optimally aligning furtherwith contemporary context thus ensuring harmonious conformance herein.\""
      ]
     },
     "execution_count": 38,
     "metadata": {},
     "output_type": "execute_result"
    }
   ],
   "source": [
    "rag(query)"
   ]
  },
  {
   "cell_type": "code",
   "execution_count": null,
   "id": "92e6be3a-162f-4c0a-8539-20ee314d5c0b",
   "metadata": {},
   "outputs": [],
   "source": []
  }
 ],
 "metadata": {
  "kernelspec": {
   "display_name": "Python 3 (ipykernel)",
   "language": "python",
   "name": "python3"
  },
  "language_info": {
   "codemirror_mode": {
    "name": "ipython",
    "version": 3
   },
   "file_extension": ".py",
   "mimetype": "text/x-python",
   "name": "python",
   "nbconvert_exporter": "python",
   "pygments_lexer": "ipython3",
   "version": "3.12.1"
  }
 },
 "nbformat": 4,
 "nbformat_minor": 5
}
